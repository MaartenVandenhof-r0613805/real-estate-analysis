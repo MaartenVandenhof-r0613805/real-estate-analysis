{
 "cells": [
  {
   "cell_type": "markdown",
   "metadata": {},
   "source": [
    "## Import libraries"
   ]
  },
  {
   "cell_type": "code",
   "execution_count": 128,
   "metadata": {},
   "outputs": [],
   "source": [
    "import pandas as pd\n",
    "from sklearn.model_selection import train_test_split, cross_val_score\n",
    "from sklearn.linear_model import Lasso\n",
    "from sklearn.metrics import mean_squared_error\n",
    "from sklearn.neighbors import KNeighborsRegressor\n",
    "import numpy as np"
   ]
  },
  {
   "cell_type": "markdown",
   "metadata": {},
   "source": [
    "## Import data"
   ]
  },
  {
   "cell_type": "code",
   "execution_count": 5,
   "metadata": {},
   "outputs": [],
   "source": [
    "mean_interest = pd.read_csv(\"E:/Projects/real-estate-analysis/data/mean_interest_q.csv\")\n",
    "requests_vl = pd.read_csv(\"E:/Projects/real-estate-analysis/data/permits_reg.csv\")\n",
    "prices = pd.read_csv(\"E:/Projects/real-estate-analysis/data/annual_prices.csv\")"
   ]
  },
  {
   "cell_type": "code",
   "execution_count": 18,
   "metadata": {},
   "outputs": [
    {
     "data": {
      "text/plain": [
       "array(['Huizen met 2 of 3 gevels (gesloten + halfopen bebouwing)',\n",
       "       'Huizen met 4 of meer gevels (open bebouwing)',\n",
       "       'Alle huizen met 2, 3, 4 of meer gevels (excl. appartementen)',\n",
       "       'Appartementen'], dtype=object)"
      ]
     },
     "execution_count": 18,
     "metadata": {},
     "output_type": "execute_result"
    }
   ],
   "source": [
    "prices[\"CD_TYPE_NL\"].unique()"
   ]
  },
  {
   "cell_type": "code",
   "execution_count": 29,
   "metadata": {},
   "outputs": [
    {
     "data": {
      "text/html": [
       "<div>\n",
       "<style scoped>\n",
       "    .dataframe tbody tr th:only-of-type {\n",
       "        vertical-align: middle;\n",
       "    }\n",
       "\n",
       "    .dataframe tbody tr th {\n",
       "        vertical-align: top;\n",
       "    }\n",
       "\n",
       "    .dataframe thead th {\n",
       "        text-align: right;\n",
       "    }\n",
       "</style>\n",
       "<table border=\"1\" class=\"dataframe\">\n",
       "  <thead>\n",
       "    <tr style=\"text-align: right;\">\n",
       "      <th></th>\n",
       "      <th>CD_YEAR</th>\n",
       "      <th>CD_TYPE_NL</th>\n",
       "      <th>CD_TYPE_FR</th>\n",
       "      <th>CD_REFNIS</th>\n",
       "      <th>CD_REFNIS_NL</th>\n",
       "      <th>CD_REFNIS_FR</th>\n",
       "      <th>CD_PERIOD</th>\n",
       "      <th>CD_CLASS_SURFACE</th>\n",
       "      <th>MS_TOTAL_TRANSACTIONS</th>\n",
       "      <th>MS_P_25</th>\n",
       "      <th>MS_P_50_median</th>\n",
       "      <th>MS_P_75</th>\n",
       "      <th>CD_niveau_refnis</th>\n",
       "      <th>year:period</th>\n",
       "    </tr>\n",
       "  </thead>\n",
       "  <tbody>\n",
       "    <tr>\n",
       "      <th>13405</th>\n",
       "      <td>2010</td>\n",
       "      <td>Appartementen</td>\n",
       "      <td>Appartements</td>\n",
       "      <td>2000</td>\n",
       "      <td>VLAAMS GEWEST</td>\n",
       "      <td>REGION FLAMANDE</td>\n",
       "      <td>Q1</td>\n",
       "      <td>totaal / total</td>\n",
       "      <td>3623.0</td>\n",
       "      <td>110000.0</td>\n",
       "      <td>148000.0</td>\n",
       "      <td>192250.0</td>\n",
       "      <td>2</td>\n",
       "      <td>2010:Q1</td>\n",
       "    </tr>\n",
       "    <tr>\n",
       "      <th>13406</th>\n",
       "      <td>2010</td>\n",
       "      <td>Appartementen</td>\n",
       "      <td>Appartements</td>\n",
       "      <td>2000</td>\n",
       "      <td>VLAAMS GEWEST</td>\n",
       "      <td>REGION FLAMANDE</td>\n",
       "      <td>Q2</td>\n",
       "      <td>totaal / total</td>\n",
       "      <td>4152.0</td>\n",
       "      <td>115000.0</td>\n",
       "      <td>150000.0</td>\n",
       "      <td>195000.0</td>\n",
       "      <td>2</td>\n",
       "      <td>2010:Q2</td>\n",
       "    </tr>\n",
       "    <tr>\n",
       "      <th>13407</th>\n",
       "      <td>2010</td>\n",
       "      <td>Appartementen</td>\n",
       "      <td>Appartements</td>\n",
       "      <td>2000</td>\n",
       "      <td>VLAAMS GEWEST</td>\n",
       "      <td>REGION FLAMANDE</td>\n",
       "      <td>Q3</td>\n",
       "      <td>totaal / total</td>\n",
       "      <td>3897.0</td>\n",
       "      <td>116000.0</td>\n",
       "      <td>151480.0</td>\n",
       "      <td>195000.0</td>\n",
       "      <td>2</td>\n",
       "      <td>2010:Q3</td>\n",
       "    </tr>\n",
       "    <tr>\n",
       "      <th>13408</th>\n",
       "      <td>2010</td>\n",
       "      <td>Appartementen</td>\n",
       "      <td>Appartements</td>\n",
       "      <td>2000</td>\n",
       "      <td>VLAAMS GEWEST</td>\n",
       "      <td>REGION FLAMANDE</td>\n",
       "      <td>Q4</td>\n",
       "      <td>totaal / total</td>\n",
       "      <td>4150.0</td>\n",
       "      <td>115000.0</td>\n",
       "      <td>155000.0</td>\n",
       "      <td>205000.0</td>\n",
       "      <td>2</td>\n",
       "      <td>2010:Q4</td>\n",
       "    </tr>\n",
       "    <tr>\n",
       "      <th>31269</th>\n",
       "      <td>2011</td>\n",
       "      <td>Appartementen</td>\n",
       "      <td>Appartements</td>\n",
       "      <td>2000</td>\n",
       "      <td>VLAAMS GEWEST</td>\n",
       "      <td>REGION FLAMANDE</td>\n",
       "      <td>Q1</td>\n",
       "      <td>totaal / total</td>\n",
       "      <td>4044.0</td>\n",
       "      <td>115000.0</td>\n",
       "      <td>152900.0</td>\n",
       "      <td>200000.0</td>\n",
       "      <td>2</td>\n",
       "      <td>2011:Q1</td>\n",
       "    </tr>\n",
       "  </tbody>\n",
       "</table>\n",
       "</div>"
      ],
      "text/plain": [
       "       CD_YEAR     CD_TYPE_NL    CD_TYPE_FR  CD_REFNIS   CD_REFNIS_NL  \\\n",
       "13405     2010  Appartementen  Appartements       2000  VLAAMS GEWEST   \n",
       "13406     2010  Appartementen  Appartements       2000  VLAAMS GEWEST   \n",
       "13407     2010  Appartementen  Appartements       2000  VLAAMS GEWEST   \n",
       "13408     2010  Appartementen  Appartements       2000  VLAAMS GEWEST   \n",
       "31269     2011  Appartementen  Appartements       2000  VLAAMS GEWEST   \n",
       "\n",
       "          CD_REFNIS_FR CD_PERIOD CD_CLASS_SURFACE  MS_TOTAL_TRANSACTIONS  \\\n",
       "13405  REGION FLAMANDE        Q1   totaal / total                 3623.0   \n",
       "13406  REGION FLAMANDE        Q2   totaal / total                 4152.0   \n",
       "13407  REGION FLAMANDE        Q3   totaal / total                 3897.0   \n",
       "13408  REGION FLAMANDE        Q4   totaal / total                 4150.0   \n",
       "31269  REGION FLAMANDE        Q1   totaal / total                 4044.0   \n",
       "\n",
       "        MS_P_25  MS_P_50_median   MS_P_75  CD_niveau_refnis year:period  \n",
       "13405  110000.0        148000.0  192250.0                 2     2010:Q1  \n",
       "13406  115000.0        150000.0  195000.0                 2     2010:Q2  \n",
       "13407  116000.0        151480.0  195000.0                 2     2010:Q3  \n",
       "13408  115000.0        155000.0  205000.0                 2     2010:Q4  \n",
       "31269  115000.0        152900.0  200000.0                 2     2011:Q1  "
      ]
     },
     "execution_count": 29,
     "metadata": {},
     "output_type": "execute_result"
    }
   ],
   "source": [
    "prices[(prices[\"CD_TYPE_NL\"] == \"Appartementen\") & \n",
    "       (prices[\"CD_PERIOD\"].isin([\"Q1\", \"Q2\", \"Q3\", \"Q4\"])) &\n",
    "       (prices[\"CD_REFNIS_NL\"] == \"VLAAMS GEWEST\")].head()"
   ]
  },
  {
   "cell_type": "code",
   "execution_count": 72,
   "metadata": {},
   "outputs": [
    {
     "data": {
      "text/plain": [
       "9"
      ]
     },
     "execution_count": 72,
     "metadata": {},
     "output_type": "execute_result"
    }
   ],
   "source": [
    "model_data[model_data[\"year:period\"] == \"2012:Q2\"].index[0]"
   ]
  },
  {
   "cell_type": "code",
   "execution_count": 90,
   "metadata": {},
   "outputs": [],
   "source": [
    "def calc_price_lvl(current, prev):\n",
    "    return (current / prev * 100 - 100)"
   ]
  },
  {
   "cell_type": "code",
   "execution_count": 98,
   "metadata": {},
   "outputs": [
    {
     "data": {
      "text/html": [
       "<div>\n",
       "<style scoped>\n",
       "    .dataframe tbody tr th:only-of-type {\n",
       "        vertical-align: middle;\n",
       "    }\n",
       "\n",
       "    .dataframe tbody tr th {\n",
       "        vertical-align: top;\n",
       "    }\n",
       "\n",
       "    .dataframe thead th {\n",
       "        text-align: right;\n",
       "    }\n",
       "</style>\n",
       "<table border=\"1\" class=\"dataframe\">\n",
       "  <thead>\n",
       "    <tr style=\"text-align: right;\">\n",
       "      <th></th>\n",
       "      <th>year:period</th>\n",
       "      <th>Value</th>\n",
       "      <th>Year</th>\n",
       "      <th>Refnis</th>\n",
       "      <th>Month</th>\n",
       "      <th>dwellings</th>\n",
       "      <th>appartments</th>\n",
       "      <th>one-dwelling buildings</th>\n",
       "      <th>surface area</th>\n",
       "      <th>Price_app</th>\n",
       "      <th>App_transactions</th>\n",
       "      <th>Price_det</th>\n",
       "      <th>Det_transactions</th>\n",
       "      <th>Price_sem_det</th>\n",
       "      <th>Sem_det_transactions</th>\n",
       "      <th>lvl_app</th>\n",
       "      <th>lvl_det</th>\n",
       "      <th>lvl_sem_det</th>\n",
       "    </tr>\n",
       "  </thead>\n",
       "  <tbody>\n",
       "    <tr>\n",
       "      <th>8</th>\n",
       "      <td>2012:Q1</td>\n",
       "      <td>3.780000</td>\n",
       "      <td>2012.0</td>\n",
       "      <td>6000.0</td>\n",
       "      <td>6.0</td>\n",
       "      <td>5275.0</td>\n",
       "      <td>10115.0</td>\n",
       "      <td>5385.0</td>\n",
       "      <td>4730.0</td>\n",
       "      <td>220000.0</td>\n",
       "      <td>3826.0</td>\n",
       "      <td>375000.0</td>\n",
       "      <td>2831.0</td>\n",
       "      <td>250000.0</td>\n",
       "      <td>7087.0</td>\n",
       "      <td>2.325581</td>\n",
       "      <td>1.351351</td>\n",
       "      <td>2.040816</td>\n",
       "    </tr>\n",
       "    <tr>\n",
       "      <th>9</th>\n",
       "      <td>2012:Q2</td>\n",
       "      <td>3.330000</td>\n",
       "      <td>2012.0</td>\n",
       "      <td>6000.0</td>\n",
       "      <td>15.0</td>\n",
       "      <td>4375.0</td>\n",
       "      <td>8977.0</td>\n",
       "      <td>5134.0</td>\n",
       "      <td>3843.0</td>\n",
       "      <td>212500.0</td>\n",
       "      <td>4520.0</td>\n",
       "      <td>370000.0</td>\n",
       "      <td>3696.0</td>\n",
       "      <td>250000.0</td>\n",
       "      <td>8685.0</td>\n",
       "      <td>-3.409091</td>\n",
       "      <td>-1.333333</td>\n",
       "      <td>0.000000</td>\n",
       "    </tr>\n",
       "    <tr>\n",
       "      <th>10</th>\n",
       "      <td>2012:Q3</td>\n",
       "      <td>2.613333</td>\n",
       "      <td>2012.0</td>\n",
       "      <td>6000.0</td>\n",
       "      <td>24.0</td>\n",
       "      <td>3889.0</td>\n",
       "      <td>7546.0</td>\n",
       "      <td>4116.0</td>\n",
       "      <td>3430.0</td>\n",
       "      <td>216500.0</td>\n",
       "      <td>4297.0</td>\n",
       "      <td>375000.0</td>\n",
       "      <td>3667.0</td>\n",
       "      <td>255000.0</td>\n",
       "      <td>8438.0</td>\n",
       "      <td>1.882353</td>\n",
       "      <td>1.351351</td>\n",
       "      <td>2.000000</td>\n",
       "    </tr>\n",
       "    <tr>\n",
       "      <th>11</th>\n",
       "      <td>2012:Q4</td>\n",
       "      <td>2.276667</td>\n",
       "      <td>2012.0</td>\n",
       "      <td>6000.0</td>\n",
       "      <td>33.0</td>\n",
       "      <td>3674.0</td>\n",
       "      <td>7209.0</td>\n",
       "      <td>3990.0</td>\n",
       "      <td>3219.0</td>\n",
       "      <td>219000.0</td>\n",
       "      <td>4816.0</td>\n",
       "      <td>380000.0</td>\n",
       "      <td>3977.0</td>\n",
       "      <td>255000.0</td>\n",
       "      <td>8959.0</td>\n",
       "      <td>1.154734</td>\n",
       "      <td>1.333333</td>\n",
       "      <td>0.000000</td>\n",
       "    </tr>\n",
       "    <tr>\n",
       "      <th>12</th>\n",
       "      <td>2013:Q1</td>\n",
       "      <td>2.340000</td>\n",
       "      <td>2013.0</td>\n",
       "      <td>6000.0</td>\n",
       "      <td>6.0</td>\n",
       "      <td>4399.0</td>\n",
       "      <td>9120.0</td>\n",
       "      <td>5235.0</td>\n",
       "      <td>3885.0</td>\n",
       "      <td>219000.0</td>\n",
       "      <td>4243.0</td>\n",
       "      <td>375000.0</td>\n",
       "      <td>3366.0</td>\n",
       "      <td>252500.0</td>\n",
       "      <td>7813.0</td>\n",
       "      <td>0.000000</td>\n",
       "      <td>-1.315789</td>\n",
       "      <td>-0.980392</td>\n",
       "    </tr>\n",
       "  </tbody>\n",
       "</table>\n",
       "</div>"
      ],
      "text/plain": [
       "   year:period     Value    Year  Refnis  Month  dwellings  appartments  \\\n",
       "8      2012:Q1  3.780000  2012.0  6000.0    6.0     5275.0      10115.0   \n",
       "9      2012:Q2  3.330000  2012.0  6000.0   15.0     4375.0       8977.0   \n",
       "10     2012:Q3  2.613333  2012.0  6000.0   24.0     3889.0       7546.0   \n",
       "11     2012:Q4  2.276667  2012.0  6000.0   33.0     3674.0       7209.0   \n",
       "12     2013:Q1  2.340000  2013.0  6000.0    6.0     4399.0       9120.0   \n",
       "\n",
       "    one-dwelling buildings  surface area  Price_app  App_transactions  \\\n",
       "8                   5385.0        4730.0   220000.0            3826.0   \n",
       "9                   5134.0        3843.0   212500.0            4520.0   \n",
       "10                  4116.0        3430.0   216500.0            4297.0   \n",
       "11                  3990.0        3219.0   219000.0            4816.0   \n",
       "12                  5235.0        3885.0   219000.0            4243.0   \n",
       "\n",
       "    Price_det  Det_transactions  Price_sem_det  Sem_det_transactions  \\\n",
       "8    375000.0            2831.0       250000.0                7087.0   \n",
       "9    370000.0            3696.0       250000.0                8685.0   \n",
       "10   375000.0            3667.0       255000.0                8438.0   \n",
       "11   380000.0            3977.0       255000.0                8959.0   \n",
       "12   375000.0            3366.0       252500.0                7813.0   \n",
       "\n",
       "     lvl_app   lvl_det  lvl_sem_det  \n",
       "8   2.325581  1.351351     2.040816  \n",
       "9  -3.409091 -1.333333     0.000000  \n",
       "10  1.882353  1.351351     2.000000  \n",
       "11  1.154734  1.333333     0.000000  \n",
       "12  0.000000 -1.315789    -0.980392  "
      ]
     },
     "execution_count": 98,
     "metadata": {},
     "output_type": "execute_result"
    }
   ],
   "source": [
    "# Create 1 dataframe\n",
    "# Add data together\n",
    "model_data = mean_interest[[\"year:period\", \"Value\"]].merge(requests_vl,how=\"left\", on=\"year:period\")\n",
    "prices_app = prices[(prices[\"CD_TYPE_NL\"] == \"Appartementen\") & \n",
    "       (prices[\"CD_PERIOD\"].isin([\"Q1\", \"Q2\", \"Q3\", \"Q4\"])) &\n",
    "       (prices[\"CD_REFNIS_NL\"] == \"VLAAMS GEWEST\")][[\"year:period\", \"MS_P_75\", \"MS_TOTAL_TRANSACTIONS\"]].rename(columns={\"MS_P_75\":\"Price_app\", \"MS_TOTAL_TRANSACTIONS\":\"App_transactions\"})\n",
    "model_data = model_data.merge(prices_app, on=\"year:period\", how=\"left\")\n",
    "\n",
    "prices_house = prices[(prices[\"CD_TYPE_NL\"] == \"Huizen met 4 of meer gevels (open bebouwing)\") & \n",
    "       (prices[\"CD_PERIOD\"].isin([\"Q1\", \"Q2\", \"Q3\", \"Q4\"])) &\n",
    "       (prices[\"CD_REFNIS_NL\"] == \"VLAAMS GEWEST\")][[\"year:period\", \"MS_P_75\", \"MS_TOTAL_TRANSACTIONS\"]].rename(columns={\"MS_P_75\":\"Price_det\", \"MS_TOTAL_TRANSACTIONS\":\"Det_transactions\"})\n",
    "model_data = model_data.merge(prices_house, on=\"year:period\", how=\"left\")\n",
    "\n",
    "prices_sem_det = prices[(prices[\"CD_TYPE_NL\"] == \"Huizen met 2 of 3 gevels (gesloten + halfopen bebouwing)\") & \n",
    "       (prices[\"CD_PERIOD\"].isin([\"Q1\", \"Q2\", \"Q3\", \"Q4\"])) &\n",
    "       (prices[\"CD_REFNIS_NL\"] == \"VLAAMS GEWEST\")][[\"year:period\", \"MS_P_75\", \"MS_TOTAL_TRANSACTIONS\"]].rename(columns={\"MS_P_75\":\"Price_sem_det\", \"MS_TOTAL_TRANSACTIONS\":\"Sem_det_transactions\"})\n",
    "model_data = model_data.merge(prices_sem_det, on=\"year:period\", how=\"left\")\n",
    "\n",
    "# Add price level column\n",
    "model_data[\"lvl_app\"] = [None] + [calc_price_lvl(model_data[\"Price_app\"].iloc[i], model_data[\"Price_app\"].iloc[i-1]) for i in range(1, len(model_data)) ]\n",
    "model_data[\"lvl_det\"] = [None] + [calc_price_lvl(model_data[\"Price_det\"].iloc[i], model_data[\"Price_det\"].iloc[i-1]) for i in range(1, len(model_data)) ]\n",
    "model_data[\"lvl_sem_det\"] = [None] + [calc_price_lvl(model_data[\"Price_sem_det\"].iloc[i], model_data[\"Price_sem_det\"].iloc[i-1]) for i in range(1, len(model_data)) ]\n",
    "\n",
    "model_data = model_data.dropna()\n",
    "model_data.head()"
   ]
  },
  {
   "cell_type": "markdown",
   "metadata": {},
   "source": [
    "## Building Model\n",
    "### Lasso regression"
   ]
  },
  {
   "cell_type": "code",
   "execution_count": 114,
   "metadata": {},
   "outputs": [],
   "source": [
    "# Create training and test data for appartments\n",
    "X_app = model_data[[\"Value\", \"appartments\", \"App_transactions\"]]\n",
    "y_app = model_data[\"lvl_app\"]\n",
    "X_train, X_test, y_train, y_test = train_test_split(X_app, y_app, test_size=0.2, random_state=0)"
   ]
  },
  {
   "cell_type": "code",
   "execution_count": 118,
   "metadata": {},
   "outputs": [
    {
     "data": {
      "text/plain": [
       "Lasso(alpha=0.1, normalize=True)"
      ]
     },
     "execution_count": 118,
     "metadata": {},
     "output_type": "execute_result"
    }
   ],
   "source": [
    "# Fit lasso regression model\n",
    "app_model = Lasso(alpha=0.1, normalize=True)\n",
    "app_model.fit(X_train, y_train)"
   ]
  },
  {
   "cell_type": "code",
   "execution_count": 119,
   "metadata": {},
   "outputs": [
    {
     "data": {
      "text/html": [
       "<div>\n",
       "<style scoped>\n",
       "    .dataframe tbody tr th:only-of-type {\n",
       "        vertical-align: middle;\n",
       "    }\n",
       "\n",
       "    .dataframe tbody tr th {\n",
       "        vertical-align: top;\n",
       "    }\n",
       "\n",
       "    .dataframe thead th {\n",
       "        text-align: right;\n",
       "    }\n",
       "</style>\n",
       "<table border=\"1\" class=\"dataframe\">\n",
       "  <thead>\n",
       "    <tr style=\"text-align: right;\">\n",
       "      <th></th>\n",
       "      <th>0</th>\n",
       "    </tr>\n",
       "    <tr>\n",
       "      <th>lvl_app</th>\n",
       "      <th></th>\n",
       "    </tr>\n",
       "  </thead>\n",
       "  <tbody>\n",
       "    <tr>\n",
       "      <th>-0.387597</th>\n",
       "      <td>0.107902</td>\n",
       "    </tr>\n",
       "    <tr>\n",
       "      <th>2.127660</th>\n",
       "      <td>0.776927</td>\n",
       "    </tr>\n",
       "    <tr>\n",
       "      <th>-2.127660</th>\n",
       "      <td>0.953926</td>\n",
       "    </tr>\n",
       "    <tr>\n",
       "      <th>1.176471</th>\n",
       "      <td>0.702982</td>\n",
       "    </tr>\n",
       "    <tr>\n",
       "      <th>1.208333</th>\n",
       "      <td>0.828637</td>\n",
       "    </tr>\n",
       "    <tr>\n",
       "      <th>3.296703</th>\n",
       "      <td>0.806685</td>\n",
       "    </tr>\n",
       "    <tr>\n",
       "      <th>0.000000</th>\n",
       "      <td>0.847610</td>\n",
       "    </tr>\n",
       "    <tr>\n",
       "      <th>1.882353</th>\n",
       "      <td>0.709081</td>\n",
       "    </tr>\n",
       "  </tbody>\n",
       "</table>\n",
       "</div>"
      ],
      "text/plain": [
       "                  0\n",
       "lvl_app            \n",
       "-0.387597  0.107902\n",
       " 2.127660  0.776927\n",
       "-2.127660  0.953926\n",
       " 1.176471  0.702982\n",
       " 1.208333  0.828637\n",
       " 3.296703  0.806685\n",
       " 0.000000  0.847610\n",
       " 1.882353  0.709081"
      ]
     },
     "execution_count": 119,
     "metadata": {},
     "output_type": "execute_result"
    }
   ],
   "source": [
    "# Check predictions\n",
    "y_pred = app_model.predict(X_test)\n",
    "pd.DataFrame(y_pred, y_test)"
   ]
  },
  {
   "cell_type": "code",
   "execution_count": 117,
   "metadata": {},
   "outputs": [
    {
     "data": {
      "text/plain": [
       "2.533373593554521"
      ]
     },
     "execution_count": 117,
     "metadata": {},
     "output_type": "execute_result"
    }
   ],
   "source": [
    "mean_squared_error(y_test, y_pred)"
   ]
  },
  {
   "cell_type": "markdown",
   "metadata": {},
   "source": [
    "### KNN"
   ]
  },
  {
   "cell_type": "code",
   "execution_count": 137,
   "metadata": {},
   "outputs": [
    {
     "data": {
      "text/plain": [
       "KNeighborsRegressor(n_neighbors=2)"
      ]
     },
     "execution_count": 137,
     "metadata": {},
     "output_type": "execute_result"
    }
   ],
   "source": [
    "app_model_knn = KNeighborsRegressor(2)\n",
    "app_model_knn.fit(X_train, y_train)"
   ]
  },
  {
   "cell_type": "code",
   "execution_count": 138,
   "metadata": {},
   "outputs": [
    {
     "data": {
      "text/html": [
       "<div>\n",
       "<style scoped>\n",
       "    .dataframe tbody tr th:only-of-type {\n",
       "        vertical-align: middle;\n",
       "    }\n",
       "\n",
       "    .dataframe tbody tr th {\n",
       "        vertical-align: top;\n",
       "    }\n",
       "\n",
       "    .dataframe thead th {\n",
       "        text-align: right;\n",
       "    }\n",
       "</style>\n",
       "<table border=\"1\" class=\"dataframe\">\n",
       "  <thead>\n",
       "    <tr style=\"text-align: right;\">\n",
       "      <th></th>\n",
       "      <th>0</th>\n",
       "    </tr>\n",
       "    <tr>\n",
       "      <th>lvl_app</th>\n",
       "      <th></th>\n",
       "    </tr>\n",
       "  </thead>\n",
       "  <tbody>\n",
       "    <tr>\n",
       "      <th>-0.387597</th>\n",
       "      <td>0.107902</td>\n",
       "    </tr>\n",
       "    <tr>\n",
       "      <th>2.127660</th>\n",
       "      <td>0.776927</td>\n",
       "    </tr>\n",
       "    <tr>\n",
       "      <th>-2.127660</th>\n",
       "      <td>0.953926</td>\n",
       "    </tr>\n",
       "    <tr>\n",
       "      <th>1.176471</th>\n",
       "      <td>0.702982</td>\n",
       "    </tr>\n",
       "    <tr>\n",
       "      <th>1.208333</th>\n",
       "      <td>0.828637</td>\n",
       "    </tr>\n",
       "    <tr>\n",
       "      <th>3.296703</th>\n",
       "      <td>0.806685</td>\n",
       "    </tr>\n",
       "    <tr>\n",
       "      <th>0.000000</th>\n",
       "      <td>0.847610</td>\n",
       "    </tr>\n",
       "    <tr>\n",
       "      <th>1.882353</th>\n",
       "      <td>0.709081</td>\n",
       "    </tr>\n",
       "  </tbody>\n",
       "</table>\n",
       "</div>"
      ],
      "text/plain": [
       "                  0\n",
       "lvl_app            \n",
       "-0.387597  0.107902\n",
       " 2.127660  0.776927\n",
       "-2.127660  0.953926\n",
       " 1.176471  0.702982\n",
       " 1.208333  0.828637\n",
       " 3.296703  0.806685\n",
       " 0.000000  0.847610\n",
       " 1.882353  0.709081"
      ]
     },
     "execution_count": 138,
     "metadata": {},
     "output_type": "execute_result"
    }
   ],
   "source": [
    "y_pred_knn = app_model.predict(X_test)\n",
    "pd.DataFrame(y_pred_knn, y_test)"
   ]
  }
 ],
 "metadata": {
  "kernelspec": {
   "display_name": "Python 3 (ipykernel)",
   "language": "python",
   "name": "python3"
  },
  "language_info": {
   "codemirror_mode": {
    "name": "ipython",
    "version": 3
   },
   "file_extension": ".py",
   "mimetype": "text/x-python",
   "name": "python",
   "nbconvert_exporter": "python",
   "pygments_lexer": "ipython3",
   "version": "3.8.5"
  }
 },
 "nbformat": 4,
 "nbformat_minor": 4
}
