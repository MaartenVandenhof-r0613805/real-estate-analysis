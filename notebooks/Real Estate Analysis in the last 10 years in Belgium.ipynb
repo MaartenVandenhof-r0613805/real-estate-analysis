{
 "cells": [
  {
   "cell_type": "markdown",
   "metadata": {},
   "source": [
    "### Import Packages"
   ]
  },
  {
   "cell_type": "code",
   "execution_count": 2,
   "metadata": {},
   "outputs": [],
   "source": [
    "import pandas as pd\n",
    "import matplotlib as plt"
   ]
  },
  {
   "cell_type": "markdown",
   "metadata": {},
   "source": [
    "### Import Data from sources"
   ]
  },
  {
   "cell_type": "code",
   "execution_count": 17,
   "metadata": {
    "scrolled": true
   },
   "outputs": [
    {
     "data": {
      "text/html": [
       "<div>\n",
       "<style scoped>\n",
       "    .dataframe tbody tr th:only-of-type {\n",
       "        vertical-align: middle;\n",
       "    }\n",
       "\n",
       "    .dataframe tbody tr th {\n",
       "        vertical-align: top;\n",
       "    }\n",
       "\n",
       "    .dataframe thead th {\n",
       "        text-align: right;\n",
       "    }\n",
       "</style>\n",
       "<table border=\"1\" class=\"dataframe\">\n",
       "  <thead>\n",
       "    <tr style=\"text-align: right;\">\n",
       "      <th></th>\n",
       "      <th>CD_YEAR</th>\n",
       "      <th>CD_TYPE_NL</th>\n",
       "      <th>CD_TYPE_FR</th>\n",
       "      <th>CD_REFNIS</th>\n",
       "      <th>CD_REFNIS_NL</th>\n",
       "      <th>CD_REFNIS_FR</th>\n",
       "      <th>CD_PERIOD</th>\n",
       "      <th>CD_CLASS_SURFACE</th>\n",
       "      <th>MS_TOTAL_TRANSACTIONS</th>\n",
       "      <th>MS_P_25</th>\n",
       "      <th>MS_P_50_median</th>\n",
       "      <th>MS_P_75</th>\n",
       "      <th>CD_niveau_refnis</th>\n",
       "    </tr>\n",
       "  </thead>\n",
       "  <tbody>\n",
       "    <tr>\n",
       "      <th>0</th>\n",
       "      <td>2010</td>\n",
       "      <td>Huizen met 2 of 3 gevels (gesloten + halfopen ...</td>\n",
       "      <td>Maisons avec 2 ou 3 façades (type fermé + type...</td>\n",
       "      <td>1000</td>\n",
       "      <td>BELGIE</td>\n",
       "      <td>BELGIQUE</td>\n",
       "      <td>Q1</td>\n",
       "      <td>totaal / total</td>\n",
       "      <td>13078.0</td>\n",
       "      <td>110000.0</td>\n",
       "      <td>156000.0</td>\n",
       "      <td>210000.0</td>\n",
       "      <td>1</td>\n",
       "    </tr>\n",
       "    <tr>\n",
       "      <th>1</th>\n",
       "      <td>2010</td>\n",
       "      <td>Huizen met 2 of 3 gevels (gesloten + halfopen ...</td>\n",
       "      <td>Maisons avec 2 ou 3 façades (type fermé + type...</td>\n",
       "      <td>1000</td>\n",
       "      <td>BELGIE</td>\n",
       "      <td>BELGIQUE</td>\n",
       "      <td>Q2</td>\n",
       "      <td>totaal / total</td>\n",
       "      <td>14059.0</td>\n",
       "      <td>114000.0</td>\n",
       "      <td>159500.0</td>\n",
       "      <td>212000.0</td>\n",
       "      <td>1</td>\n",
       "    </tr>\n",
       "    <tr>\n",
       "      <th>2</th>\n",
       "      <td>2010</td>\n",
       "      <td>Huizen met 2 of 3 gevels (gesloten + halfopen ...</td>\n",
       "      <td>Maisons avec 2 ou 3 façades (type fermé + type...</td>\n",
       "      <td>1000</td>\n",
       "      <td>BELGIE</td>\n",
       "      <td>BELGIQUE</td>\n",
       "      <td>Q3</td>\n",
       "      <td>totaal / total</td>\n",
       "      <td>13917.0</td>\n",
       "      <td>118000.0</td>\n",
       "      <td>165000.0</td>\n",
       "      <td>220000.0</td>\n",
       "      <td>1</td>\n",
       "    </tr>\n",
       "    <tr>\n",
       "      <th>3</th>\n",
       "      <td>2010</td>\n",
       "      <td>Huizen met 2 of 3 gevels (gesloten + halfopen ...</td>\n",
       "      <td>Maisons avec 2 ou 3 façades (type fermé + type...</td>\n",
       "      <td>1000</td>\n",
       "      <td>BELGIE</td>\n",
       "      <td>BELGIQUE</td>\n",
       "      <td>Q4</td>\n",
       "      <td>totaal / total</td>\n",
       "      <td>13823.0</td>\n",
       "      <td>120000.0</td>\n",
       "      <td>165000.0</td>\n",
       "      <td>225000.0</td>\n",
       "      <td>1</td>\n",
       "    </tr>\n",
       "    <tr>\n",
       "      <th>4</th>\n",
       "      <td>2010</td>\n",
       "      <td>Huizen met 2 of 3 gevels (gesloten + halfopen ...</td>\n",
       "      <td>Maisons avec 2 ou 3 façades (type fermé + type...</td>\n",
       "      <td>1000</td>\n",
       "      <td>BELGIE</td>\n",
       "      <td>BELGIQUE</td>\n",
       "      <td>S1</td>\n",
       "      <td>totaal / total</td>\n",
       "      <td>27137.0</td>\n",
       "      <td>112000.0</td>\n",
       "      <td>158000.0</td>\n",
       "      <td>210000.0</td>\n",
       "      <td>1</td>\n",
       "    </tr>\n",
       "    <tr>\n",
       "      <th>...</th>\n",
       "      <td>...</td>\n",
       "      <td>...</td>\n",
       "      <td>...</td>\n",
       "      <td>...</td>\n",
       "      <td>...</td>\n",
       "      <td>...</td>\n",
       "      <td>...</td>\n",
       "      <td>...</td>\n",
       "      <td>...</td>\n",
       "      <td>...</td>\n",
       "      <td>...</td>\n",
       "      <td>...</td>\n",
       "      <td>...</td>\n",
       "    </tr>\n",
       "    <tr>\n",
       "      <th>17859</th>\n",
       "      <td>2020</td>\n",
       "      <td>Appartementen</td>\n",
       "      <td>Appartements</td>\n",
       "      <td>93090</td>\n",
       "      <td>VIROINVAL</td>\n",
       "      <td>VIROINVAL</td>\n",
       "      <td>Q3</td>\n",
       "      <td>totaal / total</td>\n",
       "      <td>NaN</td>\n",
       "      <td>NaN</td>\n",
       "      <td>NaN</td>\n",
       "      <td>NaN</td>\n",
       "      <td>5</td>\n",
       "    </tr>\n",
       "    <tr>\n",
       "      <th>17860</th>\n",
       "      <td>2020</td>\n",
       "      <td>Appartementen</td>\n",
       "      <td>Appartements</td>\n",
       "      <td>93090</td>\n",
       "      <td>VIROINVAL</td>\n",
       "      <td>VIROINVAL</td>\n",
       "      <td>Q4</td>\n",
       "      <td>totaal / total</td>\n",
       "      <td>1.0</td>\n",
       "      <td>NaN</td>\n",
       "      <td>NaN</td>\n",
       "      <td>NaN</td>\n",
       "      <td>5</td>\n",
       "    </tr>\n",
       "    <tr>\n",
       "      <th>17861</th>\n",
       "      <td>2020</td>\n",
       "      <td>Appartementen</td>\n",
       "      <td>Appartements</td>\n",
       "      <td>93090</td>\n",
       "      <td>VIROINVAL</td>\n",
       "      <td>VIROINVAL</td>\n",
       "      <td>S1</td>\n",
       "      <td>totaal / total</td>\n",
       "      <td>NaN</td>\n",
       "      <td>NaN</td>\n",
       "      <td>NaN</td>\n",
       "      <td>NaN</td>\n",
       "      <td>5</td>\n",
       "    </tr>\n",
       "    <tr>\n",
       "      <th>17862</th>\n",
       "      <td>2020</td>\n",
       "      <td>Appartementen</td>\n",
       "      <td>Appartements</td>\n",
       "      <td>93090</td>\n",
       "      <td>VIROINVAL</td>\n",
       "      <td>VIROINVAL</td>\n",
       "      <td>S2</td>\n",
       "      <td>totaal / total</td>\n",
       "      <td>1.0</td>\n",
       "      <td>NaN</td>\n",
       "      <td>NaN</td>\n",
       "      <td>NaN</td>\n",
       "      <td>5</td>\n",
       "    </tr>\n",
       "    <tr>\n",
       "      <th>17863</th>\n",
       "      <td>2020</td>\n",
       "      <td>Appartementen</td>\n",
       "      <td>Appartements</td>\n",
       "      <td>93090</td>\n",
       "      <td>VIROINVAL</td>\n",
       "      <td>VIROINVAL</td>\n",
       "      <td>Y</td>\n",
       "      <td>totaal / total</td>\n",
       "      <td>1.0</td>\n",
       "      <td>NaN</td>\n",
       "      <td>NaN</td>\n",
       "      <td>NaN</td>\n",
       "      <td>5</td>\n",
       "    </tr>\n",
       "  </tbody>\n",
       "</table>\n",
       "<p>196504 rows × 13 columns</p>\n",
       "</div>"
      ],
      "text/plain": [
       "       CD_YEAR                                         CD_TYPE_NL  \\\n",
       "0         2010  Huizen met 2 of 3 gevels (gesloten + halfopen ...   \n",
       "1         2010  Huizen met 2 of 3 gevels (gesloten + halfopen ...   \n",
       "2         2010  Huizen met 2 of 3 gevels (gesloten + halfopen ...   \n",
       "3         2010  Huizen met 2 of 3 gevels (gesloten + halfopen ...   \n",
       "4         2010  Huizen met 2 of 3 gevels (gesloten + halfopen ...   \n",
       "...        ...                                                ...   \n",
       "17859     2020                                      Appartementen   \n",
       "17860     2020                                      Appartementen   \n",
       "17861     2020                                      Appartementen   \n",
       "17862     2020                                      Appartementen   \n",
       "17863     2020                                      Appartementen   \n",
       "\n",
       "                                              CD_TYPE_FR  CD_REFNIS  \\\n",
       "0      Maisons avec 2 ou 3 façades (type fermé + type...       1000   \n",
       "1      Maisons avec 2 ou 3 façades (type fermé + type...       1000   \n",
       "2      Maisons avec 2 ou 3 façades (type fermé + type...       1000   \n",
       "3      Maisons avec 2 ou 3 façades (type fermé + type...       1000   \n",
       "4      Maisons avec 2 ou 3 façades (type fermé + type...       1000   \n",
       "...                                                  ...        ...   \n",
       "17859                                       Appartements      93090   \n",
       "17860                                       Appartements      93090   \n",
       "17861                                       Appartements      93090   \n",
       "17862                                       Appartements      93090   \n",
       "17863                                       Appartements      93090   \n",
       "\n",
       "      CD_REFNIS_NL CD_REFNIS_FR CD_PERIOD CD_CLASS_SURFACE  \\\n",
       "0           BELGIE     BELGIQUE        Q1   totaal / total   \n",
       "1           BELGIE     BELGIQUE        Q2   totaal / total   \n",
       "2           BELGIE     BELGIQUE        Q3   totaal / total   \n",
       "3           BELGIE     BELGIQUE        Q4   totaal / total   \n",
       "4           BELGIE     BELGIQUE        S1   totaal / total   \n",
       "...            ...          ...       ...              ...   \n",
       "17859    VIROINVAL    VIROINVAL        Q3   totaal / total   \n",
       "17860    VIROINVAL    VIROINVAL        Q4   totaal / total   \n",
       "17861    VIROINVAL    VIROINVAL        S1   totaal / total   \n",
       "17862    VIROINVAL    VIROINVAL        S2   totaal / total   \n",
       "17863    VIROINVAL    VIROINVAL         Y   totaal / total   \n",
       "\n",
       "       MS_TOTAL_TRANSACTIONS   MS_P_25  MS_P_50_median   MS_P_75  \\\n",
       "0                    13078.0  110000.0        156000.0  210000.0   \n",
       "1                    14059.0  114000.0        159500.0  212000.0   \n",
       "2                    13917.0  118000.0        165000.0  220000.0   \n",
       "3                    13823.0  120000.0        165000.0  225000.0   \n",
       "4                    27137.0  112000.0        158000.0  210000.0   \n",
       "...                      ...       ...             ...       ...   \n",
       "17859                    NaN       NaN             NaN       NaN   \n",
       "17860                    1.0       NaN             NaN       NaN   \n",
       "17861                    NaN       NaN             NaN       NaN   \n",
       "17862                    1.0       NaN             NaN       NaN   \n",
       "17863                    1.0       NaN             NaN       NaN   \n",
       "\n",
       "       CD_niveau_refnis  \n",
       "0                     1  \n",
       "1                     1  \n",
       "2                     1  \n",
       "3                     1  \n",
       "4                     1  \n",
       "...                 ...  \n",
       "17859                 5  \n",
       "17860                 5  \n",
       "17861                 5  \n",
       "17862                 5  \n",
       "17863                 5  \n",
       "\n",
       "[196504 rows x 13 columns]"
      ]
     },
     "execution_count": 17,
     "metadata": {},
     "output_type": "execute_result"
    }
   ],
   "source": [
    "# import house annual house prices\n",
    "prices = pd.read_excel(\"I:/Projects/real-estate-analysis/data/vastgoed_2010_2021.xlsx\", sheet_name=str(2010))\n",
    "for i in range(10):\n",
    "    new_df = pd.read_excel(\"I:/Projects/real-estate-analysis/data/vastgoed_2010_2021.xlsx\", sheet_name=str(2011 + i))\n",
    "    prices = pd.concat([prices, new_df])\n",
    "prices"
   ]
  },
  {
   "cell_type": "code",
   "execution_count": 30,
   "metadata": {},
   "outputs": [],
   "source": [
    "# Select Flanders Region\n",
    "prices_app_vl = prices[(prices[\"CD_REFNIS_NL\"] == \"VLAAMS GEWEST\") & (prices[\"CD_TYPE_NL\"] == \"Appartementen\")]"
   ]
  },
  {
   "cell_type": "code",
   "execution_count": 32,
   "metadata": {},
   "outputs": [
    {
     "data": {
      "text/plain": [
       "array(['Q1', 'Q2', 'Q3', 'Q4', 'S1', 'S2', 'Y'], dtype=object)"
      ]
     },
     "execution_count": 32,
     "metadata": {},
     "output_type": "execute_result"
    }
   ],
   "source": [
    "# Check for unique periods\n",
    "prices_app_vl[\"CD_PERIOD\"].unique()"
   ]
  },
  {
   "cell_type": "code",
   "execution_count": 33,
   "metadata": {},
   "outputs": [],
   "source": [
    "# Select only the yearly data\n",
    "prices_app_vl_y = prices_app_vl[prices_app_vl[\"CD_PERIOD\"] == \"Y\"]"
   ]
  },
  {
   "cell_type": "code",
   "execution_count": 35,
   "metadata": {},
   "outputs": [
    {
     "data": {
      "text/plain": [
       "<AxesSubplot:xlabel='CD_YEAR'>"
      ]
     },
     "execution_count": 35,
     "metadata": {},
     "output_type": "execute_result"
    },
    {
     "data": {
      "image/png": "[encoded data removed]",
      "text/plain": [
       "<Figure size 432x288 with 1 Axes>"
      ]
     },
     "metadata": {
      "needs_background": "light"
     },
     "output_type": "display_data"
    },
    {
     "data": {
      "image/png": "[encoded data removed]",
      "text/plain": [
       "<Figure size 432x288 with 1 Axes>"
      ]
     },
     "metadata": {
      "needs_background": "light"
     },
     "output_type": "display_data"
    }
   ],
   "source": [
    "# Plot data\n",
    "prices_app_vl_y.plot(kind = \"line\", x=\"CD_YEAR\", y=\"MS_TOTAL_TRANSACTIONS\")\n",
    "prices_app_vl_y.plot(kind = \"line\", x=\"CD_YEAR\", y=\"MS_P_75\")"
   ]
  }
 ],
 "metadata": {
  "kernelspec": {
   "display_name": "Python 3",
   "language": "python",
   "name": "python3"
  },
  "language_info": {
   "codemirror_mode": {
    "name": "ipython",
    "version": 3
   },
   "file_extension": ".py",
   "mimetype": "text/x-python",
   "name": "python",
   "nbconvert_exporter": "python",
   "pygments_lexer": "ipython3",
   "version": "3.8.5"
  }
 },
 "nbformat": 4,
 "nbformat_minor": 4
}
