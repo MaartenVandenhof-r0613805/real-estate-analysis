{
 "cells": [
  {
   "cell_type": "markdown",
   "metadata": {},
   "source": [
    "### Import Packages"
   ]
  },
  {
   "cell_type": "code",
   "execution_count": 1,
   "metadata": {},
   "outputs": [],
   "source": [
    "import pandas as pd\n",
    "import matplotlib as plt"
   ]
  },
  {
   "cell_type": "markdown",
   "metadata": {},
   "source": [
    "### Import Data from sources\n",
    "#### Import housing data"
   ]
  },
  {
   "cell_type": "code",
   "execution_count": 36,
   "metadata": {
    "scrolled": true
   },
   "outputs": [
    {
     "data": {
      "text/html": [
       "<div>\n",
       "<style scoped>\n",
       "    .dataframe tbody tr th:only-of-type {\n",
       "        vertical-align: middle;\n",
       "    }\n",
       "\n",
       "    .dataframe tbody tr th {\n",
       "        vertical-align: top;\n",
       "    }\n",
       "\n",
       "    .dataframe thead th {\n",
       "        text-align: right;\n",
       "    }\n",
       "</style>\n",
       "<table border=\"1\" class=\"dataframe\">\n",
       "  <thead>\n",
       "    <tr style=\"text-align: right;\">\n",
       "      <th></th>\n",
       "      <th>Unnamed: 0</th>\n",
       "      <th>Unnamed: 0.1</th>\n",
       "      <th>CD_YEAR</th>\n",
       "      <th>CD_TYPE_NL</th>\n",
       "      <th>CD_TYPE_FR</th>\n",
       "      <th>CD_REFNIS</th>\n",
       "      <th>CD_REFNIS_NL</th>\n",
       "      <th>CD_REFNIS_FR</th>\n",
       "      <th>CD_PERIOD</th>\n",
       "      <th>CD_CLASS_SURFACE</th>\n",
       "      <th>MS_TOTAL_TRANSACTIONS</th>\n",
       "      <th>MS_P_25</th>\n",
       "      <th>MS_P_50_median</th>\n",
       "      <th>MS_P_75</th>\n",
       "      <th>CD_niveau_refnis</th>\n",
       "    </tr>\n",
       "  </thead>\n",
       "  <tbody>\n",
       "    <tr>\n",
       "      <th>0</th>\n",
       "      <td>0</td>\n",
       "      <td>0</td>\n",
       "      <td>2010</td>\n",
       "      <td>Huizen met 2 of 3 gevels (gesloten + halfopen ...</td>\n",
       "      <td>Maisons avec 2 ou 3 façades (type fermé + type...</td>\n",
       "      <td>1000</td>\n",
       "      <td>BELGIE</td>\n",
       "      <td>BELGIQUE</td>\n",
       "      <td>Q1</td>\n",
       "      <td>totaal / total</td>\n",
       "      <td>13078.0</td>\n",
       "      <td>110000.0</td>\n",
       "      <td>156000.0</td>\n",
       "      <td>210000.0</td>\n",
       "      <td>1</td>\n",
       "    </tr>\n",
       "    <tr>\n",
       "      <th>1</th>\n",
       "      <td>1</td>\n",
       "      <td>1</td>\n",
       "      <td>2010</td>\n",
       "      <td>Huizen met 2 of 3 gevels (gesloten + halfopen ...</td>\n",
       "      <td>Maisons avec 2 ou 3 façades (type fermé + type...</td>\n",
       "      <td>1000</td>\n",
       "      <td>BELGIE</td>\n",
       "      <td>BELGIQUE</td>\n",
       "      <td>Q2</td>\n",
       "      <td>totaal / total</td>\n",
       "      <td>14059.0</td>\n",
       "      <td>114000.0</td>\n",
       "      <td>159500.0</td>\n",
       "      <td>212000.0</td>\n",
       "      <td>1</td>\n",
       "    </tr>\n",
       "    <tr>\n",
       "      <th>2</th>\n",
       "      <td>2</td>\n",
       "      <td>2</td>\n",
       "      <td>2010</td>\n",
       "      <td>Huizen met 2 of 3 gevels (gesloten + halfopen ...</td>\n",
       "      <td>Maisons avec 2 ou 3 façades (type fermé + type...</td>\n",
       "      <td>1000</td>\n",
       "      <td>BELGIE</td>\n",
       "      <td>BELGIQUE</td>\n",
       "      <td>Q3</td>\n",
       "      <td>totaal / total</td>\n",
       "      <td>13917.0</td>\n",
       "      <td>118000.0</td>\n",
       "      <td>165000.0</td>\n",
       "      <td>220000.0</td>\n",
       "      <td>1</td>\n",
       "    </tr>\n",
       "    <tr>\n",
       "      <th>3</th>\n",
       "      <td>3</td>\n",
       "      <td>3</td>\n",
       "      <td>2010</td>\n",
       "      <td>Huizen met 2 of 3 gevels (gesloten + halfopen ...</td>\n",
       "      <td>Maisons avec 2 ou 3 façades (type fermé + type...</td>\n",
       "      <td>1000</td>\n",
       "      <td>BELGIE</td>\n",
       "      <td>BELGIQUE</td>\n",
       "      <td>Q4</td>\n",
       "      <td>totaal / total</td>\n",
       "      <td>13823.0</td>\n",
       "      <td>120000.0</td>\n",
       "      <td>165000.0</td>\n",
       "      <td>225000.0</td>\n",
       "      <td>1</td>\n",
       "    </tr>\n",
       "    <tr>\n",
       "      <th>4</th>\n",
       "      <td>4</td>\n",
       "      <td>4</td>\n",
       "      <td>2010</td>\n",
       "      <td>Huizen met 2 of 3 gevels (gesloten + halfopen ...</td>\n",
       "      <td>Maisons avec 2 ou 3 façades (type fermé + type...</td>\n",
       "      <td>1000</td>\n",
       "      <td>BELGIE</td>\n",
       "      <td>BELGIQUE</td>\n",
       "      <td>S1</td>\n",
       "      <td>totaal / total</td>\n",
       "      <td>27137.0</td>\n",
       "      <td>112000.0</td>\n",
       "      <td>158000.0</td>\n",
       "      <td>210000.0</td>\n",
       "      <td>1</td>\n",
       "    </tr>\n",
       "  </tbody>\n",
       "</table>\n",
       "</div>"
      ],
      "text/plain": [
       "   Unnamed: 0  Unnamed: 0.1  CD_YEAR  \\\n",
       "0           0             0     2010   \n",
       "1           1             1     2010   \n",
       "2           2             2     2010   \n",
       "3           3             3     2010   \n",
       "4           4             4     2010   \n",
       "\n",
       "                                          CD_TYPE_NL  \\\n",
       "0  Huizen met 2 of 3 gevels (gesloten + halfopen ...   \n",
       "1  Huizen met 2 of 3 gevels (gesloten + halfopen ...   \n",
       "2  Huizen met 2 of 3 gevels (gesloten + halfopen ...   \n",
       "3  Huizen met 2 of 3 gevels (gesloten + halfopen ...   \n",
       "4  Huizen met 2 of 3 gevels (gesloten + halfopen ...   \n",
       "\n",
       "                                          CD_TYPE_FR  CD_REFNIS CD_REFNIS_NL  \\\n",
       "0  Maisons avec 2 ou 3 façades (type fermé + type...       1000       BELGIE   \n",
       "1  Maisons avec 2 ou 3 façades (type fermé + type...       1000       BELGIE   \n",
       "2  Maisons avec 2 ou 3 façades (type fermé + type...       1000       BELGIE   \n",
       "3  Maisons avec 2 ou 3 façades (type fermé + type...       1000       BELGIE   \n",
       "4  Maisons avec 2 ou 3 façades (type fermé + type...       1000       BELGIE   \n",
       "\n",
       "  CD_REFNIS_FR CD_PERIOD CD_CLASS_SURFACE  MS_TOTAL_TRANSACTIONS   MS_P_25  \\\n",
       "0     BELGIQUE        Q1   totaal / total                13078.0  110000.0   \n",
       "1     BELGIQUE        Q2   totaal / total                14059.0  114000.0   \n",
       "2     BELGIQUE        Q3   totaal / total                13917.0  118000.0   \n",
       "3     BELGIQUE        Q4   totaal / total                13823.0  120000.0   \n",
       "4     BELGIQUE        S1   totaal / total                27137.0  112000.0   \n",
       "\n",
       "   MS_P_50_median   MS_P_75  CD_niveau_refnis  \n",
       "0        156000.0  210000.0                 1  \n",
       "1        159500.0  212000.0                 1  \n",
       "2        165000.0  220000.0                 1  \n",
       "3        165000.0  225000.0                 1  \n",
       "4        158000.0  210000.0                 1  "
      ]
     },
     "execution_count": 36,
     "metadata": {},
     "output_type": "execute_result"
    }
   ],
   "source": [
    "# import house annual house prices\n",
    "\"\"\"\n",
    "prices = pd.read_excel(\"E:/Projects/real-estate-analysis/data/vastgoed_2010_2021.xlsx\", sheet_name=str(2010))\n",
    "for i in range(10):\n",
    "    new_df = pd.read_excel(\"E:/Projects/real-estate-analysis/data/vastgoed_2010_2021.xlsx\", sheet_name=str(2011 + i))\n",
    "    prices = pd.concat([prices, new_df])\n",
    "prices.head()\n",
    "\"\"\"\n",
    "prices = pd.read_csv(\"E:/Projects/real-estate-analysis/data/annual_prices.csv\")\n",
    "prices.head()"
   ]
  },
  {
   "cell_type": "code",
   "execution_count": 35,
   "metadata": {},
   "outputs": [],
   "source": [
    "# Write new df to csv for more efficient imports in the future\n",
    "prices.to_csv(\"E:/Projects/real-estate-analysis/data/annual_prices.csv\")"
   ]
  },
  {
   "cell_type": "code",
   "execution_count": 55,
   "metadata": {},
   "outputs": [
    {
     "data": {
      "text/html": [
       "<div>\n",
       "<style scoped>\n",
       "    .dataframe tbody tr th:only-of-type {\n",
       "        vertical-align: middle;\n",
       "    }\n",
       "\n",
       "    .dataframe tbody tr th {\n",
       "        vertical-align: top;\n",
       "    }\n",
       "\n",
       "    .dataframe thead th {\n",
       "        text-align: right;\n",
       "    }\n",
       "</style>\n",
       "<table border=\"1\" class=\"dataframe\">\n",
       "  <thead>\n",
       "    <tr style=\"text-align: right;\">\n",
       "      <th></th>\n",
       "      <th>Refnis</th>\n",
       "      <th>Place</th>\n",
       "      <th>Year</th>\n",
       "      <th>Month</th>\n",
       "      <th>dwellings</th>\n",
       "      <th>appartments</th>\n",
       "      <th>one-dwelling buildings</th>\n",
       "      <th>surface area</th>\n",
       "    </tr>\n",
       "  </thead>\n",
       "  <tbody>\n",
       "    <tr>\n",
       "      <th>0</th>\n",
       "      <td>2000</td>\n",
       "      <td>FLANDERS REGION</td>\n",
       "      <td>2012</td>\n",
       "      <td>1</td>\n",
       "      <td>1875</td>\n",
       "      <td>3107</td>\n",
       "      <td>1404</td>\n",
       "      <td>1703</td>\n",
       "    </tr>\n",
       "    <tr>\n",
       "      <th>1</th>\n",
       "      <td>2000</td>\n",
       "      <td>FLANDERS REGION</td>\n",
       "      <td>2012</td>\n",
       "      <td>2</td>\n",
       "      <td>1590</td>\n",
       "      <td>2970</td>\n",
       "      <td>1537</td>\n",
       "      <td>1433</td>\n",
       "    </tr>\n",
       "    <tr>\n",
       "      <th>2</th>\n",
       "      <td>2000</td>\n",
       "      <td>FLANDERS REGION</td>\n",
       "      <td>2012</td>\n",
       "      <td>3</td>\n",
       "      <td>1810</td>\n",
       "      <td>4038</td>\n",
       "      <td>2444</td>\n",
       "      <td>1594</td>\n",
       "    </tr>\n",
       "    <tr>\n",
       "      <th>3</th>\n",
       "      <td>2000</td>\n",
       "      <td>FLANDERS REGION</td>\n",
       "      <td>2012</td>\n",
       "      <td>4</td>\n",
       "      <td>1694</td>\n",
       "      <td>4091</td>\n",
       "      <td>2641</td>\n",
       "      <td>1450</td>\n",
       "    </tr>\n",
       "    <tr>\n",
       "      <th>4</th>\n",
       "      <td>2000</td>\n",
       "      <td>FLANDERS REGION</td>\n",
       "      <td>2012</td>\n",
       "      <td>5</td>\n",
       "      <td>1280</td>\n",
       "      <td>2383</td>\n",
       "      <td>1247</td>\n",
       "      <td>1136</td>\n",
       "    </tr>\n",
       "  </tbody>\n",
       "</table>\n",
       "</div>"
      ],
      "text/plain": [
       "   Refnis            Place  Year  Month  dwellings  appartments  \\\n",
       "0    2000  FLANDERS REGION  2012      1       1875         3107   \n",
       "1    2000  FLANDERS REGION  2012      2       1590         2970   \n",
       "2    2000  FLANDERS REGION  2012      3       1810         4038   \n",
       "3    2000  FLANDERS REGION  2012      4       1694         4091   \n",
       "4    2000  FLANDERS REGION  2012      5       1280         2383   \n",
       "\n",
       "   one-dwelling buildings  surface area  \n",
       "0                    1404          1703  \n",
       "1                    1537          1433  \n",
       "2                    2444          1594  \n",
       "3                    2641          1450  \n",
       "4                    1247          1136  "
      ]
     },
     "execution_count": 55,
     "metadata": {},
     "output_type": "execute_result"
    }
   ],
   "source": [
    "# import monthly building permit requests per region\n",
    "requests_res = pd.read_excel(\"E:/Projects/real-estate-analysis/data/aanvragen_monthly.xlsx\", \n",
    "                         sheet_name=\"Regions\",\n",
    "                        usecols=\"A:H\", \n",
    "                            header=3)\n",
    "requests_res = requests_res.rename(columns={\"Unnamed: 3\":\"buildings\", \"Unnamed: 4\" :\"dwellings\", \"Unnamed: 5\":\"appartments\", \"Unnamed: 6\":\"one-dwelling buildings\", \"Unnamed: 7\":\"surface area\"})\n",
    "requests_res.head()"
   ]
  },
  {
   "cell_type": "code",
   "execution_count": 56,
   "metadata": {},
   "outputs": [
    {
     "data": {
      "text/html": [
       "<div>\n",
       "<style scoped>\n",
       "    .dataframe tbody tr th:only-of-type {\n",
       "        vertical-align: middle;\n",
       "    }\n",
       "\n",
       "    .dataframe tbody tr th {\n",
       "        vertical-align: top;\n",
       "    }\n",
       "\n",
       "    .dataframe thead th {\n",
       "        text-align: right;\n",
       "    }\n",
       "</style>\n",
       "<table border=\"1\" class=\"dataframe\">\n",
       "  <thead>\n",
       "    <tr style=\"text-align: right;\">\n",
       "      <th></th>\n",
       "      <th>Refnis</th>\n",
       "      <th>Place</th>\n",
       "      <th>Year</th>\n",
       "      <th>Month</th>\n",
       "      <th>dwellings</th>\n",
       "      <th>appartments</th>\n",
       "      <th>one-dwelling buildings</th>\n",
       "      <th>surface area</th>\n",
       "    </tr>\n",
       "  </thead>\n",
       "  <tbody>\n",
       "    <tr>\n",
       "      <th>0</th>\n",
       "      <td>11001</td>\n",
       "      <td>AARTSELAAR</td>\n",
       "      <td>2012</td>\n",
       "      <td>1</td>\n",
       "      <td>2.0</td>\n",
       "      <td>2.0</td>\n",
       "      <td>0.0</td>\n",
       "      <td>2.0</td>\n",
       "    </tr>\n",
       "    <tr>\n",
       "      <th>1</th>\n",
       "      <td>11001</td>\n",
       "      <td>AARTSELAAR</td>\n",
       "      <td>2012</td>\n",
       "      <td>2</td>\n",
       "      <td>5.0</td>\n",
       "      <td>24.0</td>\n",
       "      <td>20.0</td>\n",
       "      <td>4.0</td>\n",
       "    </tr>\n",
       "    <tr>\n",
       "      <th>2</th>\n",
       "      <td>11001</td>\n",
       "      <td>AARTSELAAR</td>\n",
       "      <td>2012</td>\n",
       "      <td>3</td>\n",
       "      <td>4.0</td>\n",
       "      <td>12.0</td>\n",
       "      <td>11.0</td>\n",
       "      <td>1.0</td>\n",
       "    </tr>\n",
       "    <tr>\n",
       "      <th>3</th>\n",
       "      <td>11001</td>\n",
       "      <td>AARTSELAAR</td>\n",
       "      <td>2012</td>\n",
       "      <td>4</td>\n",
       "      <td>0.0</td>\n",
       "      <td>0.0</td>\n",
       "      <td>0.0</td>\n",
       "      <td>0.0</td>\n",
       "    </tr>\n",
       "    <tr>\n",
       "      <th>4</th>\n",
       "      <td>11001</td>\n",
       "      <td>AARTSELAAR</td>\n",
       "      <td>2012</td>\n",
       "      <td>5</td>\n",
       "      <td>2.0</td>\n",
       "      <td>2.0</td>\n",
       "      <td>0.0</td>\n",
       "      <td>2.0</td>\n",
       "    </tr>\n",
       "  </tbody>\n",
       "</table>\n",
       "</div>"
      ],
      "text/plain": [
       "   Refnis       Place  Year  Month  dwellings  appartments  \\\n",
       "0   11001  AARTSELAAR  2012      1        2.0          2.0   \n",
       "1   11001  AARTSELAAR  2012      2        5.0         24.0   \n",
       "2   11001  AARTSELAAR  2012      3        4.0         12.0   \n",
       "3   11001  AARTSELAAR  2012      4        0.0          0.0   \n",
       "4   11001  AARTSELAAR  2012      5        2.0          2.0   \n",
       "\n",
       "   one-dwelling buildings  surface area  \n",
       "0                     0.0           2.0  \n",
       "1                    20.0           4.0  \n",
       "2                    11.0           1.0  \n",
       "3                     0.0           0.0  \n",
       "4                     0.0           2.0  "
      ]
     },
     "execution_count": 56,
     "metadata": {},
     "output_type": "execute_result"
    }
   ],
   "source": [
    "# import monthly building permit requests per municipality\n",
    "requests_res_mun = pd.read_excel(\"E:/Projects/real-estate-analysis/data/aanvragen_monthly.xlsx\", \n",
    "                         sheet_name=\"Municipalities\",\n",
    "                        usecols=\"A:H\", \n",
    "                            header=3)\n",
    "requests_res_mun = requests_res_mun.rename(columns={\"Unnamed: 3\":\"buildings\", \"Unnamed: 4\" :\"dwellings\", \"Unnamed: 5\":\"appartments\", \"Unnamed: 6\":\"one-dwelling buildings\", \"Unnamed: 7\":\"surface area\"})\n",
    "requests_res_mun.head()"
   ]
  },
  {
   "cell_type": "code",
   "execution_count": null,
   "metadata": {},
   "outputs": [],
   "source": [
    "# Create year:quartiles column\n",
    "prices_app_vl_quart = prices_app_vl[prices_app_vl[\"CD_PERIOD\"].isin(['Q1', 'Q2', 'Q3', 'Q4'])]\n",
    "prices_app_vl_quart[\"year:period\"] = [str(y) + \":\" + str(p) for y, p in zip(prices_app_vl_quart[\"CD_YEAR\"], prices_app_vl_quart[\"CD_PERIOD\"])]\n",
    "prices_app_vl_quart[\"year:period\"].head()"
   ]
  },
  {
   "cell_type": "code",
   "execution_count": 68,
   "metadata": {},
   "outputs": [
    {
     "data": {
      "text/html": [
       "<div>\n",
       "<style scoped>\n",
       "    .dataframe tbody tr th:only-of-type {\n",
       "        vertical-align: middle;\n",
       "    }\n",
       "\n",
       "    .dataframe tbody tr th {\n",
       "        vertical-align: top;\n",
       "    }\n",
       "\n",
       "    .dataframe thead th {\n",
       "        text-align: right;\n",
       "    }\n",
       "</style>\n",
       "<table border=\"1\" class=\"dataframe\">\n",
       "  <thead>\n",
       "    <tr style=\"text-align: right;\">\n",
       "      <th></th>\n",
       "      <th>year:period</th>\n",
       "      <th>CD_PERIOD</th>\n",
       "    </tr>\n",
       "  </thead>\n",
       "  <tbody>\n",
       "    <tr>\n",
       "      <th>0</th>\n",
       "      <td>2012:Q1</td>\n",
       "      <td>Q1</td>\n",
       "    </tr>\n",
       "    <tr>\n",
       "      <th>1</th>\n",
       "      <td>2012:Q1</td>\n",
       "      <td>Q1</td>\n",
       "    </tr>\n",
       "    <tr>\n",
       "      <th>2</th>\n",
       "      <td>2012:Q1</td>\n",
       "      <td>Q1</td>\n",
       "    </tr>\n",
       "    <tr>\n",
       "      <th>3</th>\n",
       "      <td>2012:Q2</td>\n",
       "      <td>Q2</td>\n",
       "    </tr>\n",
       "    <tr>\n",
       "      <th>4</th>\n",
       "      <td>2012:Q2</td>\n",
       "      <td>Q2</td>\n",
       "    </tr>\n",
       "  </tbody>\n",
       "</table>\n",
       "</div>"
      ],
      "text/plain": [
       "  year:period CD_PERIOD\n",
       "0     2012:Q1        Q1\n",
       "1     2012:Q1        Q1\n",
       "2     2012:Q1        Q1\n",
       "3     2012:Q2        Q2\n",
       "4     2012:Q2        Q2"
      ]
     },
     "execution_count": 68,
     "metadata": {},
     "output_type": "execute_result"
    }
   ],
   "source": [
    "# Add quarters to requests_res and create year:quartiles column\n",
    "def return_q(month_nr):\n",
    "    if month_nr < 4:\n",
    "        return \"Q1\"\n",
    "    if month_nr < 7:\n",
    "        return \"Q2\"\n",
    "    if month_nr < 10:\n",
    "        return \"Q3\"\n",
    "    return \"Q4\"\n",
    "\n",
    "requests_res[\"CD_PERIOD\"] = [return_q(month) for month in requests_res[\"Month\"]]\n",
    "requests_res[\"year:period\"] = [str(y) + \":\" + str(q) for y, q in zip(requests_res[\"Year\"], requests_res[\"CD_PERIOD\"])]\n",
    "requests_res[[\"year:period\", \"CD_PERIOD\"]].head()"
   ]
  },
  {
   "cell_type": "markdown",
   "metadata": {},
   "source": [
    "#### Import lending data"
   ]
  },
  {
   "cell_type": "code",
   "execution_count": null,
   "metadata": {},
   "outputs": [],
   "source": []
  },
  {
   "cell_type": "markdown",
   "metadata": {},
   "source": [
    "### Exploritory Data Analysis\n",
    "#### Appartment analysis for the Flanders region"
   ]
  },
  {
   "cell_type": "code",
   "execution_count": 70,
   "metadata": {},
   "outputs": [],
   "source": [
    "# Select all apartments for the Flanders Region\n",
    "prices_app_vl = prices[(prices[\"CD_REFNIS_NL\"] == \"VLAAMS GEWEST\") & \n",
    "                       (prices[\"CD_TYPE_NL\"] == \"Appartementen\")]\n",
    "requests_vl = requests_res[requests_res[\"Place\"] == \"FLANDERS REGION\"]"
   ]
  },
  {
   "cell_type": "code",
   "execution_count": 71,
   "metadata": {},
   "outputs": [
    {
     "data": {
      "text/plain": [
       "(0.0, 7873.5)"
      ]
     },
     "execution_count": 71,
     "metadata": {},
     "output_type": "execute_result"
    },
    {
     "data": {
      "image/png": "[encoded data removed]",
      "text/plain": [
       "<Figure size 432x288 with 1 Axes>"
      ]
     },
     "metadata": {
      "needs_background": "light"
     },
     "output_type": "display_data"
    },
    {
     "data": {
      "image/png": "[encoded data removed]",
      "text/plain": [
       "<Figure size 432x288 with 1 Axes>"
      ]
     },
     "metadata": {
      "needs_background": "light"
     },
     "output_type": "display_data"
    },
    {
     "data": {
      "image/png": "[encoded data removed]",
      "text/plain": [
       "<Figure size 432x288 with 1 Axes>"
      ]
     },
     "metadata": {
      "needs_background": "light"
     },
     "output_type": "display_data"
    }
   ],
   "source": [
    "# Plot data\n",
    "prices_app_vl_quart.plot(x=\"year:period\", y=\"MS_TOTAL_TRANSACTIONS\", label=\"Total transactions\").set_ylim(0)\n",
    "prices_app_vl_quart.plot(x=\"year:period\", y=\"MS_P_75\", label=\"Median price 75th percentile\").set_ylim(0)\n",
    "requests_vl[requests_vl[\"Year\"] >= 2010].plot(x=\"year:period\", y=\"appartments\", label=\"Appartment building permits\").set_ylim(0)"
   ]
  },
  {
   "cell_type": "markdown",
   "metadata": {},
   "source": [
    "Here we can see that the amount of transactions for appartments has increased by 10 000, wich is reflected in the price that went up by 35% since 2010. The amount of building permits issued for appartments in this timeframe has almoast doubled as well."
   ]
  },
  {
   "cell_type": "code",
   "execution_count": null,
   "metadata": {},
   "outputs": [],
   "source": []
  }
 ],
 "metadata": {
  "kernelspec": {
   "display_name": "Python 3 (ipykernel)",
   "language": "python",
   "name": "python3"
  },
  "language_info": {
   "codemirror_mode": {
    "name": "ipython",
    "version": 3
   },
   "file_extension": ".py",
   "mimetype": "text/x-python",
   "name": "python",
   "nbconvert_exporter": "python",
   "pygments_lexer": "ipython3",
   "version": "3.8.5"
  }
 },
 "nbformat": 4,
 "nbformat_minor": 4
}
